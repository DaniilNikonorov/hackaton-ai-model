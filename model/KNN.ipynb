{
 "cells": [
  {
   "cell_type": "code",
   "execution_count": 1,
   "id": "b6b39d9a-f5f3-4fdc-96d8-cde4dd3a01cb",
   "metadata": {},
   "outputs": [
    {
     "name": "stdout",
     "output_type": "stream",
     "text": [
      "Connection to PostgreSQL DB successful\n"
     ]
    },
    {
     "data": {
      "text/html": [
       "<div>\n",
       "<style scoped>\n",
       "    .dataframe tbody tr th:only-of-type {\n",
       "        vertical-align: middle;\n",
       "    }\n",
       "\n",
       "    .dataframe tbody tr th {\n",
       "        vertical-align: top;\n",
       "    }\n",
       "\n",
       "    .dataframe thead th {\n",
       "        text-align: right;\n",
       "    }\n",
       "</style>\n",
       "<table border=\"1\" class=\"dataframe\">\n",
       "  <thead>\n",
       "    <tr style=\"text-align: right;\">\n",
       "      <th></th>\n",
       "      <th>subject</th>\n",
       "      <th>city</th>\n",
       "      <th>lat</th>\n",
       "      <th>Ing</th>\n",
       "      <th>id</th>\n",
       "    </tr>\n",
       "  </thead>\n",
       "  <tbody>\n",
       "    <tr>\n",
       "      <th>0</th>\n",
       "      <td>Кабардино-Балкарская Республика</td>\n",
       "      <td>город Нальчик</td>\n",
       "      <td>43.485259</td>\n",
       "      <td>43.607081</td>\n",
       "      <td>2</td>\n",
       "    </tr>\n",
       "    <tr>\n",
       "      <th>1</th>\n",
       "      <td>Иркутская область</td>\n",
       "      <td>п Усть-Ордынский</td>\n",
       "      <td>52.805121</td>\n",
       "      <td>104.753641</td>\n",
       "      <td>3</td>\n",
       "    </tr>\n",
       "    <tr>\n",
       "      <th>2</th>\n",
       "      <td>Иркутская область</td>\n",
       "      <td>Тулун</td>\n",
       "      <td>54.55712</td>\n",
       "      <td>100.578047</td>\n",
       "      <td>4</td>\n",
       "    </tr>\n",
       "    <tr>\n",
       "      <th>3</th>\n",
       "      <td>Иркутская область</td>\n",
       "      <td>Тайшет</td>\n",
       "      <td>55.940502</td>\n",
       "      <td>98.002982</td>\n",
       "      <td>5</td>\n",
       "    </tr>\n",
       "    <tr>\n",
       "      <th>4</th>\n",
       "      <td>Иркутская область</td>\n",
       "      <td>п Слюдянка</td>\n",
       "      <td>57.97442</td>\n",
       "      <td>112.769605</td>\n",
       "      <td>6</td>\n",
       "    </tr>\n",
       "  </tbody>\n",
       "</table>\n",
       "</div>"
      ],
      "text/plain": [
       "                           subject              city        lat         Ing  \\\n",
       "0  Кабардино-Балкарская Республика     город Нальчик  43.485259   43.607081   \n",
       "1                Иркутская область  п Усть-Ордынский  52.805121  104.753641   \n",
       "2                Иркутская область             Тулун   54.55712  100.578047   \n",
       "3                Иркутская область            Тайшет  55.940502   98.002982   \n",
       "4                Иркутская область        п Слюдянка   57.97442  112.769605   \n",
       "\n",
       "   id  \n",
       "0   2  \n",
       "1   3  \n",
       "2   4  \n",
       "3   5  \n",
       "4   6  "
      ]
     },
     "execution_count": 1,
     "metadata": {},
     "output_type": "execute_result"
    }
   ],
   "source": [
    "import pandas as pd\n",
    "import psycopg2\n",
    "from psycopg2 import OperationalError\n",
    "\n",
    "def create_connection(db_name, db_user, db_password, db_host, db_port):\n",
    "    connection = None\n",
    "    try:\n",
    "        connection = psycopg2.connect(\n",
    "            database=db_name,\n",
    "            user=db_user,\n",
    "            password=db_password,\n",
    "            host=db_host,\n",
    "            port=db_port,\n",
    "        )\n",
    "        print(\"Connection to PostgreSQL DB successful\")\n",
    "    except OperationalError as e:\n",
    "        print(f\"The error '{e}' occurred\")\n",
    "    return connection\n",
    "\n",
    "\n",
    "def execute_read_query(connection, query):\n",
    "    cursor = connection.cursor()\n",
    "    result = None\n",
    "    try:\n",
    "        cursor.execute(query)\n",
    "        result = cursor.fetchall()\n",
    "        return result\n",
    "    except OperationalError as e:\n",
    "        print(f\"The error '{e}' occurred\")\n",
    "\n",
    "\n",
    "connection = create_connection(\n",
    "    'postgres', 'postgres', 'postgres', '5.35.13.12', '5432'\n",
    ")\n",
    "\n",
    "select_clim = \"SELECT * FROM alex.climat_geo\"\n",
    "clims = execute_read_query(connection, select_clim)\n",
    "\n",
    "col_names = ['subject', 'city', 'lat', 'Ing', 'id']\n",
    "df = pd.DataFrame(clims, columns = col_names)\n",
    "df.head(5)"
   ]
  },
  {
   "cell_type": "code",
   "execution_count": 2,
   "id": "84aec59d-8ea0-4133-9a62-94cab8706690",
   "metadata": {},
   "outputs": [],
   "source": [
    "def make_df(name:str):\n",
    "    select_table = f\"SELECT * FROM cbr.{name}\"\n",
    "    table = execute_read_query(connection,  select_table)\n",
    "    cols_expr = f\"SELECT column_name FROM INFORMATION_SCHEMA.COLUMNS where TABLE_NAME = '{name}' and table_schema = 'cbr'\"\n",
    "    cols = execute_read_query(connection, cols_expr)\n",
    "    cols = tup_to_list(cols)\n",
    "    df = pd.DataFrame(table, columns = cols)\n",
    "    return df\n",
    "\n",
    "\n",
    "\n",
    "def tup_to_list(cols):\n",
    "    new_cols = []\n",
    "    for col in cols:\n",
    "        new_cols.append(col[0])\n",
    "    return new_cols"
   ]
  },
  {
   "cell_type": "markdown",
   "id": "70047e6c-7f8f-4bc5-be67-29ac41c84ddf",
   "metadata": {},
   "source": [
    "# поле period по дате"
   ]
  },
  {
   "cell_type": "code",
   "execution_count": 187,
   "id": "6c32d9ab-b165-4c77-9531-39606e16c0c4",
   "metadata": {},
   "outputs": [],
   "source": [
    "def data_to_period(data):\n",
    "    month = (prognoz.date.str[0:2:1])\n",
    "    year = (prognoz.date.str[5:7:1])\n",
    "    return year + '.' + month"
   ]
  },
  {
   "cell_type": "code",
   "execution_count": 3,
   "id": "0693b09a-c10e-418d-86c5-f95b20715b20",
   "metadata": {},
   "outputs": [
    {
     "data": {
      "text/html": [
       "<div>\n",
       "<style scoped>\n",
       "    .dataframe tbody tr th:only-of-type {\n",
       "        vertical-align: middle;\n",
       "    }\n",
       "\n",
       "    .dataframe tbody tr th {\n",
       "        vertical-align: top;\n",
       "    }\n",
       "\n",
       "    .dataframe thead th {\n",
       "        text-align: right;\n",
       "    }\n",
       "</style>\n",
       "<table border=\"1\" class=\"dataframe\">\n",
       "  <thead>\n",
       "    <tr style=\"text-align: right;\">\n",
       "      <th></th>\n",
       "      <th>type_expenses</th>\n",
       "      <th>direction_expenses</th>\n",
       "      <th>date</th>\n",
       "      <th>sum</th>\n",
       "      <th>period</th>\n",
       "      <th>lng</th>\n",
       "      <th>lat</th>\n",
       "      <th>climat_id</th>\n",
       "    </tr>\n",
       "  </thead>\n",
       "  <tbody>\n",
       "    <tr>\n",
       "      <th>0</th>\n",
       "      <td>Электроэнергия</td>\n",
       "      <td>134.1000.01 ДГУ. Оплата за электроэнергию по т...</td>\n",
       "      <td>02:2022</td>\n",
       "      <td>None</td>\n",
       "      <td>None</td>\n",
       "      <td>None</td>\n",
       "      <td>None</td>\n",
       "      <td>None</td>\n",
       "    </tr>\n",
       "    <tr>\n",
       "      <th>1</th>\n",
       "      <td>Электроэнергия</td>\n",
       "      <td>134.1000.01 ДГУ. Оплата за электроэнергию по т...</td>\n",
       "      <td>03:2022</td>\n",
       "      <td>None</td>\n",
       "      <td>None</td>\n",
       "      <td>None</td>\n",
       "      <td>None</td>\n",
       "      <td>None</td>\n",
       "    </tr>\n",
       "    <tr>\n",
       "      <th>2</th>\n",
       "      <td>Электроэнергия</td>\n",
       "      <td>134.1000.01 ДГУ. Оплата за электроэнергию по т...</td>\n",
       "      <td>04:2022</td>\n",
       "      <td>None</td>\n",
       "      <td>None</td>\n",
       "      <td>None</td>\n",
       "      <td>None</td>\n",
       "      <td>None</td>\n",
       "    </tr>\n",
       "    <tr>\n",
       "      <th>3</th>\n",
       "      <td>Электроэнергия</td>\n",
       "      <td>134.1000.01 ДГУ. Оплата за электроэнергию по т...</td>\n",
       "      <td>05:2022</td>\n",
       "      <td>None</td>\n",
       "      <td>None</td>\n",
       "      <td>None</td>\n",
       "      <td>None</td>\n",
       "      <td>None</td>\n",
       "    </tr>\n",
       "    <tr>\n",
       "      <th>4</th>\n",
       "      <td>Электроэнергия</td>\n",
       "      <td>134.1000.01 ДГУ. Оплата за электроэнергию по т...</td>\n",
       "      <td>06:2022</td>\n",
       "      <td>None</td>\n",
       "      <td>None</td>\n",
       "      <td>None</td>\n",
       "      <td>None</td>\n",
       "      <td>None</td>\n",
       "    </tr>\n",
       "  </tbody>\n",
       "</table>\n",
       "</div>"
      ],
      "text/plain": [
       "    type_expenses                                 direction_expenses     date  \\\n",
       "0  Электроэнергия  134.1000.01 ДГУ. Оплата за электроэнергию по т...  02:2022   \n",
       "1  Электроэнергия  134.1000.01 ДГУ. Оплата за электроэнергию по т...  03:2022   \n",
       "2  Электроэнергия  134.1000.01 ДГУ. Оплата за электроэнергию по т...  04:2022   \n",
       "3  Электроэнергия  134.1000.01 ДГУ. Оплата за электроэнергию по т...  05:2022   \n",
       "4  Электроэнергия  134.1000.01 ДГУ. Оплата за электроэнергию по т...  06:2022   \n",
       "\n",
       "    sum period   lng   lat climat_id  \n",
       "0  None   None  None  None      None  \n",
       "1  None   None  None  None      None  \n",
       "2  None   None  None  None      None  \n",
       "3  None   None  None  None      None  \n",
       "4  None   None  None  None      None  "
      ]
     },
     "execution_count": 3,
     "metadata": {},
     "output_type": "execute_result"
    }
   ],
   "source": [
    "# realty_unique\n",
    "prognoz = make_df('prognoz')\n",
    "prognoz.head(5)"
   ]
  },
  {
   "cell_type": "code",
   "execution_count": 190,
   "id": "012f76d9-c0ea-402c-962b-fd34ee7ee623",
   "metadata": {},
   "outputs": [
    {
     "data": {
      "text/html": [
       "<div>\n",
       "<style scoped>\n",
       "    .dataframe tbody tr th:only-of-type {\n",
       "        vertical-align: middle;\n",
       "    }\n",
       "\n",
       "    .dataframe tbody tr th {\n",
       "        vertical-align: top;\n",
       "    }\n",
       "\n",
       "    .dataframe thead th {\n",
       "        text-align: right;\n",
       "    }\n",
       "</style>\n",
       "<table border=\"1\" class=\"dataframe\">\n",
       "  <thead>\n",
       "    <tr style=\"text-align: right;\">\n",
       "      <th></th>\n",
       "      <th>type_expenses</th>\n",
       "      <th>direction_expenses</th>\n",
       "      <th>date</th>\n",
       "      <th>sum</th>\n",
       "      <th>period</th>\n",
       "      <th>lng</th>\n",
       "      <th>lat</th>\n",
       "      <th>climat_id</th>\n",
       "    </tr>\n",
       "  </thead>\n",
       "  <tbody>\n",
       "    <tr>\n",
       "      <th>0</th>\n",
       "      <td>Электроэнергия</td>\n",
       "      <td>134.1000.01 ДГУ. Оплата за электроэнергию по т...</td>\n",
       "      <td>02:2022</td>\n",
       "      <td>None</td>\n",
       "      <td>22.02</td>\n",
       "      <td>None</td>\n",
       "      <td>None</td>\n",
       "      <td>None</td>\n",
       "    </tr>\n",
       "    <tr>\n",
       "      <th>1</th>\n",
       "      <td>Электроэнергия</td>\n",
       "      <td>134.1000.01 ДГУ. Оплата за электроэнергию по т...</td>\n",
       "      <td>03:2022</td>\n",
       "      <td>None</td>\n",
       "      <td>22.03</td>\n",
       "      <td>None</td>\n",
       "      <td>None</td>\n",
       "      <td>None</td>\n",
       "    </tr>\n",
       "  </tbody>\n",
       "</table>\n",
       "</div>"
      ],
      "text/plain": [
       "    type_expenses                                 direction_expenses     date  \\\n",
       "0  Электроэнергия  134.1000.01 ДГУ. Оплата за электроэнергию по т...  02:2022   \n",
       "1  Электроэнергия  134.1000.01 ДГУ. Оплата за электроэнергию по т...  03:2022   \n",
       "\n",
       "    sum period   lng   lat climat_id  \n",
       "0  None  22.02  None  None      None  \n",
       "1  None  22.03  None  None      None  "
      ]
     },
     "execution_count": 190,
     "metadata": {},
     "output_type": "execute_result"
    }
   ],
   "source": [
    "prognoz['period'] = data_to_period(prognoz.date)\n",
    "prognoz.head(2)"
   ]
  },
  {
   "cell_type": "markdown",
   "id": "c23fe667-2faf-430d-b9f3-f9400cbc2dd6",
   "metadata": {},
   "source": [
    "# Join по широте и долготе"
   ]
  },
  {
   "cell_type": "code",
   "execution_count": null,
   "id": "cbaff1d2-0383-48ba-af91-047e2b9ac449",
   "metadata": {},
   "outputs": [],
   "source": [
    "expen = make_df('expenses_2')\n",
    "expen = expen[expen['sum'] != 'Отнесено']\n",
    "expen['month'] = (expen.date.str[3:-5:1]).astype('int32')\n",
    "expen.head(2)"
   ]
  },
  {
   "cell_type": "code",
   "execution_count": 130,
   "id": "7a0659fd-c479-497b-98e6-1d4ebf60997a",
   "metadata": {},
   "outputs": [
    {
     "data": {
      "text/html": [
       "<div>\n",
       "<style scoped>\n",
       "    .dataframe tbody tr th:only-of-type {\n",
       "        vertical-align: middle;\n",
       "    }\n",
       "\n",
       "    .dataframe tbody tr th {\n",
       "        vertical-align: top;\n",
       "    }\n",
       "\n",
       "    .dataframe thead th {\n",
       "        text-align: right;\n",
       "    }\n",
       "</style>\n",
       "<table border=\"1\" class=\"dataframe\">\n",
       "  <thead>\n",
       "    <tr style=\"text-align: right;\">\n",
       "      <th></th>\n",
       "      <th>id</th>\n",
       "      <th>year</th>\n",
       "      <th>quarter</th>\n",
       "      <th>department</th>\n",
       "      <th>str_id</th>\n",
       "      <th>obj_info</th>\n",
       "      <th>name</th>\n",
       "      <th>address</th>\n",
       "      <th>reestr_code</th>\n",
       "      <th>built_year_col3</th>\n",
       "      <th>...</th>\n",
       "      <th>leased_by_bank_area_fourth_col18</th>\n",
       "      <th>transferred_by_bank_third_col19</th>\n",
       "      <th>transferred_by_bank_fourth_col20</th>\n",
       "      <th>carrying_amount_col21</th>\n",
       "      <th>revaluation_col22</th>\n",
       "      <th>accrued_amount_col23</th>\n",
       "      <th>residual_sum_col24</th>\n",
       "      <th>technical_condition_col25</th>\n",
       "      <th>test</th>\n",
       "      <th>object_id</th>\n",
       "    </tr>\n",
       "  </thead>\n",
       "  <tbody>\n",
       "    <tr>\n",
       "      <th>0</th>\n",
       "      <td>4126</td>\n",
       "      <td>2018</td>\n",
       "      <td>1</td>\n",
       "      <td>Отделение Хабаровск</td>\n",
       "      <td>433</td>\n",
       "      <td>Уличное освещение, 680054, Хабаровский край, г...</td>\n",
       "      <td>Уличное освещение</td>\n",
       "      <td>680054, Хабаровский край, г. Хабаровск, Тихоок...</td>\n",
       "      <td>73-04-09-00-00-107</td>\n",
       "      <td>1995.0</td>\n",
       "      <td>...</td>\n",
       "      <td>0.00</td>\n",
       "      <td>0.00</td>\n",
       "      <td>0.00</td>\n",
       "      <td>69724.65</td>\n",
       "      <td>None</td>\n",
       "      <td>48632.92</td>\n",
       "      <td>21091.73</td>\n",
       "      <td>None</td>\n",
       "      <td>0</td>\n",
       "      <td>73-04-09-00-00-107</td>\n",
       "    </tr>\n",
       "    <tr>\n",
       "      <th>1</th>\n",
       "      <td>14329</td>\n",
       "      <td>2022</td>\n",
       "      <td>4</td>\n",
       "      <td>Отделение Южно-Сахалинск</td>\n",
       "      <td>139</td>\n",
       "      <td>помещение, Российская Федерация, Сахалинская о...</td>\n",
       "      <td>помещение</td>\n",
       "      <td>Российская Федерация, Сахалинская область, Кур...</td>\n",
       "      <td>59-01-01-015</td>\n",
       "      <td>1995.0</td>\n",
       "      <td>...</td>\n",
       "      <td>None</td>\n",
       "      <td>None</td>\n",
       "      <td>None</td>\n",
       "      <td>2653002.95</td>\n",
       "      <td>583175.92</td>\n",
       "      <td>1778184.60</td>\n",
       "      <td>874818.35</td>\n",
       "      <td>Хорошее</td>\n",
       "      <td>1</td>\n",
       "      <td>59-01-01-015</td>\n",
       "    </tr>\n",
       "  </tbody>\n",
       "</table>\n",
       "<p>2 rows × 34 columns</p>\n",
       "</div>"
      ],
      "text/plain": [
       "      id  year  quarter                department  str_id  \\\n",
       "0   4126  2018        1       Отделение Хабаровск     433   \n",
       "1  14329  2022        4  Отделение Южно-Сахалинск     139   \n",
       "\n",
       "                                            obj_info               name  \\\n",
       "0  Уличное освещение, 680054, Хабаровский край, г...  Уличное освещение   \n",
       "1  помещение, Российская Федерация, Сахалинская о...          помещение   \n",
       "\n",
       "                                             address         reestr_code  \\\n",
       "0  680054, Хабаровский край, г. Хабаровск, Тихоок...  73-04-09-00-00-107   \n",
       "1  Российская Федерация, Сахалинская область, Кур...        59-01-01-015   \n",
       "\n",
       "   built_year_col3  ... leased_by_bank_area_fourth_col18  \\\n",
       "0           1995.0  ...                             0.00   \n",
       "1           1995.0  ...                             None   \n",
       "\n",
       "  transferred_by_bank_third_col19 transferred_by_bank_fourth_col20  \\\n",
       "0                            0.00                             0.00   \n",
       "1                            None                             None   \n",
       "\n",
       "  carrying_amount_col21 revaluation_col22 accrued_amount_col23  \\\n",
       "0              69724.65              None             48632.92   \n",
       "1            2653002.95         583175.92           1778184.60   \n",
       "\n",
       "  residual_sum_col24 technical_condition_col25 test           object_id  \n",
       "0           21091.73                      None    0  73-04-09-00-00-107  \n",
       "1          874818.35                   Хорошее    1        59-01-01-015  \n",
       "\n",
       "[2 rows x 34 columns]"
      ]
     },
     "execution_count": 130,
     "metadata": {},
     "output_type": "execute_result"
    }
   ],
   "source": [
    "# real_years\n",
    "real_years = make_df('realty_list_year')\n",
    "real_years.head(2)"
   ]
  },
  {
   "cell_type": "code",
   "execution_count": 131,
   "id": "6fc27c8f-8b39-4ff5-8f02-30b5034be90b",
   "metadata": {},
   "outputs": [
    {
     "data": {
      "text/html": [
       "<div>\n",
       "<style scoped>\n",
       "    .dataframe tbody tr th:only-of-type {\n",
       "        vertical-align: middle;\n",
       "    }\n",
       "\n",
       "    .dataframe tbody tr th {\n",
       "        vertical-align: top;\n",
       "    }\n",
       "\n",
       "    .dataframe thead th {\n",
       "        text-align: right;\n",
       "    }\n",
       "</style>\n",
       "<table border=\"1\" class=\"dataframe\">\n",
       "  <thead>\n",
       "    <tr style=\"text-align: right;\">\n",
       "      <th></th>\n",
       "      <th>id</th>\n",
       "      <th>reestr_code</th>\n",
       "      <th>department</th>\n",
       "      <th>name</th>\n",
       "      <th>address</th>\n",
       "      <th>region</th>\n",
       "      <th>area</th>\n",
       "      <th>city</th>\n",
       "      <th>ya_address</th>\n",
       "      <th>lng</th>\n",
       "      <th>lat</th>\n",
       "      <th>object_id</th>\n",
       "      <th>street</th>\n",
       "      <th>climat_id</th>\n",
       "      <th>img</th>\n",
       "    </tr>\n",
       "  </thead>\n",
       "  <tbody>\n",
       "    <tr>\n",
       "      <th>0</th>\n",
       "      <td>32</td>\n",
       "      <td>04-02-01-021</td>\n",
       "      <td>Отделение Благовещенск</td>\n",
       "      <td>Квартира</td>\n",
       "      <td>Российская Федерация, Амурская область, Городс...</td>\n",
       "      <td>Амурская область</td>\n",
       "      <td>городской округ Благовещенск</td>\n",
       "      <td>Благовещенск</td>\n",
       "      <td>Россия, Амурская область, Благовещенск, улица ...</td>\n",
       "      <td>127.528754</td>\n",
       "      <td>50.259063</td>\n",
       "      <td>04-02-01-021</td>\n",
       "      <td>улица Шевченко, 9</td>\n",
       "      <td>16</td>\n",
       "      <td>None</td>\n",
       "    </tr>\n",
       "    <tr>\n",
       "      <th>1</th>\n",
       "      <td>34</td>\n",
       "      <td>04-03-01-00-02-040(комп.)</td>\n",
       "      <td>Отделение Благовещенск</td>\n",
       "      <td>Врачебный здравпункт административного (пристр...</td>\n",
       "      <td>675000, Амурская область, г.Благовещенск, Свят...</td>\n",
       "      <td>Амурская область</td>\n",
       "      <td>городской округ Благовещенск</td>\n",
       "      <td>Благовещенск</td>\n",
       "      <td>Россия, Амурская область, Благовещенск, переул...</td>\n",
       "      <td>127.524694</td>\n",
       "      <td>50.26029</td>\n",
       "      <td>04-03-01-00-02-040</td>\n",
       "      <td>переулок Святителя Иннокентия, 17</td>\n",
       "      <td>16</td>\n",
       "      <td>None</td>\n",
       "    </tr>\n",
       "  </tbody>\n",
       "</table>\n",
       "</div>"
      ],
      "text/plain": [
       "   id                reestr_code              department  \\\n",
       "0  32               04-02-01-021  Отделение Благовещенск   \n",
       "1  34  04-03-01-00-02-040(комп.)  Отделение Благовещенск   \n",
       "\n",
       "                                                name  \\\n",
       "0                                           Квартира   \n",
       "1  Врачебный здравпункт административного (пристр...   \n",
       "\n",
       "                                             address            region  \\\n",
       "0  Российская Федерация, Амурская область, Городс...  Амурская область   \n",
       "1  675000, Амурская область, г.Благовещенск, Свят...  Амурская область   \n",
       "\n",
       "                           area          city  \\\n",
       "0  городской округ Благовещенск  Благовещенск   \n",
       "1  городской округ Благовещенск  Благовещенск   \n",
       "\n",
       "                                          ya_address         lng        lat  \\\n",
       "0  Россия, Амурская область, Благовещенск, улица ...  127.528754  50.259063   \n",
       "1  Россия, Амурская область, Благовещенск, переул...  127.524694   50.26029   \n",
       "\n",
       "            object_id                             street  climat_id   img  \n",
       "0        04-02-01-021                  улица Шевченко, 9         16  None  \n",
       "1  04-03-01-00-02-040  переулок Святителя Иннокентия, 17         16  None  "
      ]
     },
     "execution_count": 131,
     "metadata": {},
     "output_type": "execute_result"
    }
   ],
   "source": [
    "# realty_unique\n",
    "real_unique = make_df('realty_uniq')\n",
    "real_unique.head(2)"
   ]
  },
  {
   "cell_type": "code",
   "execution_count": 132,
   "id": "76726f02-80a2-4319-b6e4-18f3546696fa",
   "metadata": {},
   "outputs": [
    {
     "data": {
      "text/plain": [
       "Index(['id', 'year', 'quarter', 'department', 'str_id', 'obj_info', 'name',\n",
       "       'address', 'reestr_code', 'built_year_col3', 'balance_accept_date_col4',\n",
       "       'total_area_col5', 'total_area_building_col6', 'bank_area_col7',\n",
       "       'free_area_col8', 'leased_out_by_bank_area_col9',\n",
       "       'leased_by_bank_area_col10', 'leased_by_bank_area_second_col11',\n",
       "       'transferred_by_bank_col12', 'transferred_by_bank_second_col13',\n",
       "       'bank_area_second_col14', 'free_area_second_col15',\n",
       "       'leased_out_by_bank_area_col16', 'leased_by_bank_area_third_col17',\n",
       "       'leased_by_bank_area_fourth_col18', 'transferred_by_bank_third_col19',\n",
       "       'transferred_by_bank_fourth_col20', 'carrying_amount_col21',\n",
       "       'revaluation_col22', 'accrued_amount_col23', 'residual_sum_col24',\n",
       "       'technical_condition_col25', 'test', 'object_id'],\n",
       "      dtype='object')"
      ]
     },
     "execution_count": 132,
     "metadata": {},
     "output_type": "execute_result"
    }
   ],
   "source": [
    "real_years.columns"
   ]
  },
  {
   "cell_type": "code",
   "execution_count": 133,
   "id": "57e795b6-143d-4679-9261-adce5fd3c7f8",
   "metadata": {},
   "outputs": [],
   "source": [
    "reals_merged = pd.merge(real_years, real_unique,\n",
    "                     left_on = 'object_id',\n",
    "                     right_on = 'object_id')"
   ]
  },
  {
   "cell_type": "code",
   "execution_count": 134,
   "id": "8647b8a2-9801-424c-aaac-4ada50c33383",
   "metadata": {},
   "outputs": [
    {
     "data": {
      "text/plain": [
       "Index(['id_x', 'year', 'quarter', 'department_x', 'str_id', 'obj_info',\n",
       "       'name_x', 'address_x', 'reestr_code_x', 'built_year_col3',\n",
       "       'balance_accept_date_col4', 'total_area_col5',\n",
       "       'total_area_building_col6', 'bank_area_col7', 'free_area_col8',\n",
       "       'leased_out_by_bank_area_col9', 'leased_by_bank_area_col10',\n",
       "       'leased_by_bank_area_second_col11', 'transferred_by_bank_col12',\n",
       "       'transferred_by_bank_second_col13', 'bank_area_second_col14',\n",
       "       'free_area_second_col15', 'leased_out_by_bank_area_col16',\n",
       "       'leased_by_bank_area_third_col17', 'leased_by_bank_area_fourth_col18',\n",
       "       'transferred_by_bank_third_col19', 'transferred_by_bank_fourth_col20',\n",
       "       'carrying_amount_col21', 'revaluation_col22', 'accrued_amount_col23',\n",
       "       'residual_sum_col24', 'technical_condition_col25', 'test', 'object_id',\n",
       "       'id_y', 'reestr_code_y', 'department_y', 'name_y', 'address_y',\n",
       "       'region', 'area', 'city', 'ya_address', 'lng', 'lat', 'street',\n",
       "       'climat_id', 'img'],\n",
       "      dtype='object')"
      ]
     },
     "execution_count": 134,
     "metadata": {},
     "output_type": "execute_result"
    }
   ],
   "source": [
    "reals_merged.columns"
   ]
  },
  {
   "cell_type": "code",
   "execution_count": 135,
   "id": "b3e7c7c5-5cc1-46e0-bd54-bf51df370fbf",
   "metadata": {},
   "outputs": [
    {
     "data": {
      "text/plain": [
       "Index(['year', 'smeta', 'departament', 'code', 'code_expenses',\n",
       "       'name_expenses', 'direction_expenses', 'sum_begin', 'sum', 'sum_endda',\n",
       "       'date', 'adress', 'id', 'object_id', 'lng', 'lat', 'type_expenses',\n",
       "       'month'],\n",
       "      dtype='object')"
      ]
     },
     "execution_count": 135,
     "metadata": {},
     "output_type": "execute_result"
    }
   ],
   "source": [
    "expen.columns"
   ]
  },
  {
   "cell_type": "code",
   "execution_count": 136,
   "id": "b6631553-e17b-44f0-8461-dedf1bcf445a",
   "metadata": {},
   "outputs": [
    {
     "data": {
      "text/plain": [
       "0         4126\n",
       "1        14329\n",
       "2        14331\n",
       "3        14332\n",
       "4        14333\n",
       "         ...  \n",
       "11737    13818\n",
       "11738    14215\n",
       "11739    14299\n",
       "11740    14393\n",
       "11741    14394\n",
       "Name: id, Length: 11742, dtype: int64"
      ]
     },
     "execution_count": 136,
     "metadata": {},
     "output_type": "execute_result"
    }
   ],
   "source": [
    "#real_years[real_years.object_id.notna()].object_id.unique()\n",
    "real_years[real_years.id == '4126']\n",
    "real_years.id"
   ]
  },
  {
   "cell_type": "code",
   "execution_count": 137,
   "id": "b67d5ae8-4ebf-421b-8099-89aecd6e07c7",
   "metadata": {},
   "outputs": [
    {
     "data": {
      "text/plain": [
       "0             04-02-01-021\n",
       "1       04-03-01-00-02-040\n",
       "2       04-03-01-00-54-057\n",
       "3       04-03-01-00-54-064\n",
       "4             04-05-01-018\n",
       "               ...        \n",
       "1109    58-04-01-00-00-074\n",
       "1110    24-04-09-00-00-068\n",
       "1111    73-04-09-00-00-103\n",
       "1112    73-03-01-00-07-069\n",
       "1113          51-01-03-184\n",
       "Name: object_id, Length: 1114, dtype: object"
      ]
     },
     "execution_count": 137,
     "metadata": {},
     "output_type": "execute_result"
    }
   ],
   "source": [
    "real_unique.object_id"
   ]
  },
  {
   "cell_type": "code",
   "execution_count": 138,
   "id": "aadab9d9-e97a-4dad-9795-619470b2ce55",
   "metadata": {},
   "outputs": [
    {
     "data": {
      "text/plain": [
       "'Смета РКЦ Ленск Отделения - Национального банка по Республике Саха (Якутия) Дальневосточного ГУ Банка России'"
      ]
     },
     "execution_count": 138,
     "metadata": {},
     "output_type": "execute_result"
    }
   ],
   "source": [
    "expen.smeta[0]"
   ]
  },
  {
   "cell_type": "code",
   "execution_count": 139,
   "id": "79c90d8d-171e-41ee-b1d7-22f1a56f7c52",
   "metadata": {},
   "outputs": [],
   "source": [
    "df = pd.merge(reals_merged, expen,\n",
    "        left_on = ['lng','lat'],\n",
    "        right_on = ['lng','lat'])"
   ]
  },
  {
   "cell_type": "code",
   "execution_count": 142,
   "id": "eb75f959-228b-442e-9bb1-806e637591e8",
   "metadata": {},
   "outputs": [
    {
     "data": {
      "text/plain": [
       "(105, 64)"
      ]
     },
     "execution_count": 142,
     "metadata": {},
     "output_type": "execute_result"
    }
   ],
   "source": [
    "df[['lng', 'lat']]\n",
    "df['lng'] = df.lng.astype('float32')\n",
    "df['lat'] = df.lat.astype('float32')\n",
    "df[(df.lng == 135.071917) & (df.lat == 48.480228)].shape"
   ]
  },
  {
   "cell_type": "code",
   "execution_count": 146,
   "id": "eaba4216-d13a-4ae3-aa02-b33bc5adb3c2",
   "metadata": {},
   "outputs": [],
   "source": [
    "df = df.rename(columns = {'sum':'target'})\n",
    "df['target'] = df['target'].astype('string')\n",
    "df['target'] = (df.target.str.replace(',', '.')).astype('float32')"
   ]
  },
  {
   "cell_type": "markdown",
   "id": "ce441210-138e-4aaa-8fcc-86c9f68f1a9c",
   "metadata": {},
   "source": [
    "# Catboost"
   ]
  },
  {
   "cell_type": "code",
   "execution_count": 318,
   "id": "6ef8c234-30ca-46fa-9080-e89d73c803f0",
   "metadata": {},
   "outputs": [],
   "source": [
    "numerical_features = ['built_year_col3', 'lng','lat','month','total_area_col5', 'total_area_building_col6']\n",
    "categorical_features = ['department_x',\n",
    " 'leased_out_by_bank_area_col9',\n",
    " 'leased_by_bank_area_col10',\n",
    " 'leased_by_bank_area_second_col11',\n",
    " 'transferred_by_bank_second_col13',\n",
    " 'leased_out_by_bank_area_col16',\n",
    " 'leased_by_bank_area_third_col17',\n",
    " 'leased_by_bank_area_fourth_col18',\n",
    " 'transferred_by_bank_fourth_col20',\n",
    " 'technical_condition_col25',\n",
    " 'department_y',\n",
    " 'region',\n",
    " 'area',\n",
    " 'city',\n",
    " 'img',\n",
    " 'smeta',\n",
    " 'departament',\n",
    " 'code',\n",
    " 'code_expenses',\n",
    " 'name_expenses',\n",
    " 'type_expenses']\n",
    "text_features = []\n",
    "feature_names  = numerical_features + categorical_features + text_features"
   ]
  },
  {
   "cell_type": "code",
   "execution_count": 319,
   "id": "35c5d572-58ad-425a-8663-eff1aa476fab",
   "metadata": {},
   "outputs": [],
   "source": [
    "X_ctb = df.drop('target', axis=1)\n",
    "y_ctb = df.target"
   ]
  },
  {
   "cell_type": "code",
   "execution_count": 320,
   "id": "0afb3f5a-d025-481b-b2a2-26e68efbc677",
   "metadata": {},
   "outputs": [
    {
     "data": {
      "text/plain": [
       "\"categorical_features = []\\ntext_columns = []\\nfor col in X_ctb.columns:\\n    if X_ctb[col].dtype != 'int64' and X_ctb[col].dtype != 'float64' and X_ctb[col].dtype != 'float32' and X_ctb[col].dtype != 'int32':\\n        if X_ctb[col].nunique() > 50:\\n            text_columns.append(col)\\n        else:\\n            categorical_features .append(col)\\n\""
      ]
     },
     "execution_count": 320,
     "metadata": {},
     "output_type": "execute_result"
    }
   ],
   "source": [
    "'''categorical_features = []\n",
    "text_columns = []\n",
    "for col in X_ctb.columns:\n",
    "    if X_ctb[col].dtype != 'int64' and X_ctb[col].dtype != 'float64' and X_ctb[col].dtype != 'float32' and X_ctb[col].dtype != 'int32':\n",
    "        if X_ctb[col].nunique() > 50:\n",
    "            text_columns.append(col)\n",
    "        else:\n",
    "            categorical_features .append(col)\n",
    "'''\n",
    "#print(X_ctb[col].nunique(), X_ctb[col].dtype)"
   ]
  },
  {
   "cell_type": "code",
   "execution_count": 321,
   "id": "7024acf8-418e-4ace-974c-46e023faba13",
   "metadata": {},
   "outputs": [],
   "source": [
    "X_ctb[text_columns] = X_ctb[text_columns].fillna('None')\n",
    "X_ctb[categorical_features] = X_ctb[categorical_features].fillna('None')"
   ]
  },
  {
   "cell_type": "code",
   "execution_count": 323,
   "id": "29713bc7-4cec-4888-96e5-9f832c9a58e2",
   "metadata": {},
   "outputs": [],
   "source": [
    "for col in categorical_features:\n",
    "    X_ctb[col] = X_ctb[col].astype('string')"
   ]
  },
  {
   "cell_type": "code",
   "execution_count": 324,
   "id": "0209f00c-8374-42b3-a99a-96b365a5f174",
   "metadata": {},
   "outputs": [],
   "source": [
    "for col in text_columns:\n",
    "    X_ctb[col] = X_ctb[col].astype('string')"
   ]
  },
  {
   "cell_type": "code",
   "execution_count": 334,
   "id": "5a1d4b14-9dcc-4d3e-bab3-ef9e7b04e2ba",
   "metadata": {},
   "outputs": [],
   "source": [
    "X_ctb['total_area_col5'] = X_ctb['total_area_col5'].astype('float32')\n",
    "X_ctb['total_area_building_col6'] = X_ctb['total_area_building_col6'].astype('float32')"
   ]
  },
  {
   "cell_type": "code",
   "execution_count": 335,
   "id": "c9bb884f-1681-43d4-a0fa-097b5ee0024a",
   "metadata": {},
   "outputs": [],
   "source": [
    "from sklearn.model_selection import train_test_split\n",
    "\n",
    "X_tr, X_test, y_tr, y_test = train_test_split(X_ctb[categorical_features + numerical_features], y_ctb, random_state=42)\n",
    "#categorical_features = ['type_expenses']\n",
    "feature_names = list(X_tr.columns)\n",
    "#['obj_info', 'name_x', 'addres_x', 'address_y']"
   ]
  },
  {
   "cell_type": "markdown",
   "id": "0c5a9a4d-90a6-4362-a69b-e3ab5e4bc352",
   "metadata": {},
   "source": [
    "# ЕСТЬ DATA LEAK, можно попробовать взять real_uears.groupby([lot, ...]).sum()"
   ]
  },
  {
   "cell_type": "markdown",
   "id": "9467c98d-2c0c-40ed-9ee0-372bc6176f9b",
   "metadata": {},
   "source": [
    "## Catboost"
   ]
  },
  {
   "cell_type": "code",
   "execution_count": 415,
   "id": "1cf3c310-a77b-499f-b409-13917625dbff",
   "metadata": {},
   "outputs": [
    {
     "name": "stdout",
     "output_type": "stream",
     "text": [
      "0:\tlearn: 0.9775216\ttest: 0.9786745\tbest: 0.9786745 (0)\ttotal: 133ms\tremaining: 1.2s\n",
      "1:\tlearn: 0.9753107\ttest: 0.9764546\tbest: 0.9764546 (1)\ttotal: 232ms\tremaining: 930ms\n",
      "2:\tlearn: 0.9733999\ttest: 0.9745729\tbest: 0.9745729 (2)\ttotal: 402ms\tremaining: 939ms\n",
      "3:\tlearn: 0.9707945\ttest: 0.9719821\tbest: 0.9719821 (3)\ttotal: 543ms\tremaining: 815ms\n",
      "4:\tlearn: 0.9687197\ttest: 0.9698957\tbest: 0.9698957 (4)\ttotal: 643ms\tremaining: 643ms\n",
      "5:\tlearn: 0.9671371\ttest: 0.9683627\tbest: 0.9683627 (5)\ttotal: 744ms\tremaining: 496ms\n",
      "6:\tlearn: 0.9655565\ttest: 0.9668212\tbest: 0.9668212 (6)\ttotal: 836ms\tremaining: 358ms\n",
      "7:\tlearn: 0.9642273\ttest: 0.9655796\tbest: 0.9655796 (7)\ttotal: 962ms\tremaining: 241ms\n",
      "8:\tlearn: 0.9629865\ttest: 0.9643813\tbest: 0.9643813 (8)\ttotal: 1.06s\tremaining: 117ms\n",
      "9:\tlearn: 0.9618689\ttest: 0.9633283\tbest: 0.9633283 (9)\ttotal: 1.21s\tremaining: 0us\n",
      "\n",
      "bestTest = 0.9633283034\n",
      "bestIteration = 9\n",
      "\n"
     ]
    }
   ],
   "source": [
    "from catboost import Pool, CatBoostRegressor\n",
    "import numpy as np\n",
    "#numerical_features = []\n",
    "#text_columns = []\n",
    "#categorical_features = []\n",
    "#feature_names = numerical_features + categorical_features \n",
    "\n",
    "\n",
    "train_pool = Pool(X_tr,\n",
    "                  y_tr,\n",
    "                  cat_features=categorical_features,\n",
    "                  text_features=text_columns,\n",
    "                  feature_names=feature_names\n",
    "                  )\n",
    "\n",
    "test_pool = Pool(X_test,\n",
    "                 y_test,\n",
    "                 cat_features=categorical_features,\n",
    "                 text_features=text_columns,\n",
    "                 feature_names=feature_names\n",
    "                 )\n",
    "\n",
    "eval_set = [(X_test, y_test)]\n",
    "\n",
    "ctb = CatBoostRegressor(iterations=10,\n",
    "                              #depth = 10,\n",
    "                              loss_function='MAPE',\n",
    "                              verbose=1,\n",
    "                              random_state=42,\n",
    "                              eval_metric='MAPE',\n",
    "                              nan_mode='Min',\n",
    "                              ) \n",
    "\n",
    "ctb.fit(train_pool,\n",
    "              verbose=1,\n",
    "              early_stopping_rounds=20,\n",
    "              eval_set=eval_set\n",
    "              )\n",
    "\n",
    "y_pred = ctb.predict(X_test)"
   ]
  },
  {
   "cell_type": "code",
   "execution_count": 355,
   "id": "ccac3a7c-86eb-4e3f-922a-5e9881917e82",
   "metadata": {},
   "outputs": [
    {
     "data": {
      "text/plain": [
       "{'learn': {'MAPE': 0.876961864075427},\n",
       " 'validation': {'MAPE': 0.8766448569246169}}"
      ]
     },
     "execution_count": 355,
     "metadata": {},
     "output_type": "execute_result"
    }
   ],
   "source": [
    "ctb.get_best_score()"
   ]
  },
  {
   "cell_type": "code",
   "execution_count": 356,
   "id": "0c3e0a8c-c72c-46ad-9865-dfb66ca31106",
   "metadata": {},
   "outputs": [
    {
     "data": {
      "text/plain": [
       "1.0768455398002401"
      ]
     },
     "execution_count": 356,
     "metadata": {},
     "output_type": "execute_result"
    }
   ],
   "source": [
    "from sklearn.metrics import mean_absolute_percentage_error\n",
    "\n",
    "mean_absolute_percentage_error(y_test, ctb.predict(X_test) * 3)"
   ]
  },
  {
   "cell_type": "code",
   "execution_count": 182,
   "id": "50efcb62-d329-423e-8975-a66edc7b9514",
   "metadata": {},
   "outputs": [
    {
     "data": {
      "text/plain": [
       "count    7.902100e+04\n",
       "mean     4.023001e+04\n",
       "std      1.335461e+05\n",
       "min     -5.878904e+05\n",
       "25%      2.133200e+02\n",
       "50%      1.232980e+03\n",
       "75%      8.877070e+03\n",
       "max      1.279217e+06\n",
       "Name: target, dtype: float64"
      ]
     },
     "execution_count": 182,
     "metadata": {},
     "output_type": "execute_result"
    }
   ],
   "source": [
    "import matplotlib.pyplot as plt\n",
    "(y_test).describe()\n"
   ]
  },
  {
   "cell_type": "code",
   "execution_count": null,
   "id": "2ee59e97-d80c-4446-a125-28c37fc2873d",
   "metadata": {},
   "outputs": [],
   "source": [
    "X_tr.columns[15]"
   ]
  },
  {
   "cell_type": "code",
   "execution_count": null,
   "id": "4b9f69b7-f0e0-45ac-9fc8-aba629603599",
   "metadata": {},
   "outputs": [],
   "source": [
    "X_tr['balance_accept_date_col4'].loc[46490]"
   ]
  },
  {
   "cell_type": "code",
   "execution_count": null,
   "id": "2b477ac1-2960-466f-bcbe-7af9f2f80bfb",
   "metadata": {},
   "outputs": [],
   "source": [
    "for col in text_columns:\n",
    "    X_ctb[col] = X_ctb[col].fillna('None', inplace=True)\n"
   ]
  },
  {
   "cell_type": "code",
   "execution_count": null,
   "id": "b680c5f7-b087-483d-bcf4-c710e73a9fb8",
   "metadata": {},
   "outputs": [],
   "source": [
    "text_columns"
   ]
  },
  {
   "cell_type": "code",
   "execution_count": null,
   "id": "48c3597e-ed60-403d-952a-ac3b6210de25",
   "metadata": {},
   "outputs": [],
   "source": [
    "categorical_features[14]\n"
   ]
  },
  {
   "cell_type": "code",
   "execution_count": 353,
   "id": "041791fa-394c-442d-a7af-5d43761da454",
   "metadata": {},
   "outputs": [
    {
     "data": {
      "text/plain": [
       "department_x                         0.000000\n",
       "leased_out_by_bank_area_col9         0.000000\n",
       "leased_by_bank_area_col10            0.000000\n",
       "leased_by_bank_area_second_col11     0.000000\n",
       "transferred_by_bank_second_col13     0.000000\n",
       "leased_out_by_bank_area_col16        0.000000\n",
       "leased_by_bank_area_third_col17      0.000000\n",
       "leased_by_bank_area_fourth_col18     0.000000\n",
       "transferred_by_bank_fourth_col20     0.000000\n",
       "technical_condition_col25            0.000000\n",
       "department_y                         0.000000\n",
       "region                               8.982591\n",
       "area                                 0.000000\n",
       "city                                 0.000000\n",
       "img                                  0.000000\n",
       "smeta                                0.000000\n",
       "departament                          0.000000\n",
       "code                                25.332948\n",
       "code_expenses                        0.000000\n",
       "name_expenses                        0.000000\n",
       "type_expenses                        0.000000\n",
       "built_year_col3                      5.792514\n",
       "lng                                  6.481116\n",
       "lat                                 18.353074\n",
       "month                               34.953074\n",
       "total_area_col5                      0.104669\n",
       "total_area_building_col6             0.000014\n",
       "dtype: float64"
      ]
     },
     "execution_count": 353,
     "metadata": {},
     "output_type": "execute_result"
    }
   ],
   "source": [
    "feature_imp = pd.Series(ctb.get_feature_importance(),\n",
    "                     X_tr.columns)\n",
    "feature_imp"
   ]
  },
  {
   "cell_type": "code",
   "execution_count": 354,
   "id": "e0b4191c-984b-4b44-8795-32330454275f",
   "metadata": {},
   "outputs": [
    {
     "data": {
      "text/plain": [
       "<AxesSubplot: >"
      ]
     },
     "execution_count": 354,
     "metadata": {},
     "output_type": "execute_result"
    },
    {
     "data": {
      "image/png": "[encoded data removed]",
      "text/plain": [
       "<Figure size 432x288 with 1 Axes>"
      ]
     },
     "metadata": {
      "needs_background": "light"
     },
     "output_type": "display_data"
    }
   ],
   "source": [
    "feature_imp.nlargest(20).plot(kind='barh')"
   ]
  },
  {
   "cell_type": "code",
   "execution_count": 211,
   "id": "886f2cb6-14c1-47e0-9765-c45ee67d1f8a",
   "metadata": {},
   "outputs": [
    {
     "data": {
      "text/plain": [
       "Index(['id_x', 'year', 'quarter', 'department_x', 'str_id', 'obj_info',\n",
       "       'name_x', 'address_x', 'reestr_code_x', 'built_year_col3',\n",
       "       'balance_accept_date_col4', 'total_area_col5',\n",
       "       'total_area_building_col6', 'bank_area_col7', 'free_area_col8',\n",
       "       'leased_out_by_bank_area_col9', 'leased_by_bank_area_col10',\n",
       "       'leased_by_bank_area_second_col11', 'transferred_by_bank_col12',\n",
       "       'transferred_by_bank_second_col13', 'bank_area_second_col14',\n",
       "       'free_area_second_col15', 'leased_out_by_bank_area_col16',\n",
       "       'leased_by_bank_area_third_col17', 'leased_by_bank_area_fourth_col18',\n",
       "       'transferred_by_bank_third_col19', 'transferred_by_bank_fourth_col20',\n",
       "       'carrying_amount_col21', 'revaluation_col22', 'accrued_amount_col23',\n",
       "       'residual_sum_col24', 'technical_condition_col25', 'test', 'object_id',\n",
       "       'id_y', 'reestr_code_y', 'department_y', 'name_y', 'address_y',\n",
       "       'region', 'area', 'city', 'ya_address', 'lng', 'lat', 'street',\n",
       "       'climat_id', 'img'],\n",
       "      dtype='object')"
      ]
     },
     "execution_count": 211,
     "metadata": {},
     "output_type": "execute_result"
    }
   ],
   "source": [
    "#reals_merged['lng'] = reals_merged.lng.astype('float32')\n",
    "#reals_merged['lat'] = reals_merged.lat.astype('float32')\n",
    "reals_merged[(reals_merged.lng ==135.071917) & (reals_merged.lat == 48.480229)]['year']"
   ]
  },
  {
   "cell_type": "code",
   "execution_count": 212,
   "id": "102ff642-9081-43b1-bf4e-4bfd29136d1a",
   "metadata": {},
   "outputs": [
    {
     "data": {
      "text/plain": [
       "(11742, 48)"
      ]
     },
     "execution_count": 212,
     "metadata": {},
     "output_type": "execute_result"
    }
   ],
   "source": [
    "reals_merged.shape"
   ]
  },
  {
   "cell_type": "code",
   "execution_count": 215,
   "id": "896938ed-592d-4cb3-b697-48f1597c3143",
   "metadata": {},
   "outputs": [
    {
     "data": {
      "text/plain": [
       "Index(['id_x', 'year', 'quarter', 'department_x', 'str_id', 'obj_info',\n",
       "       'name_x', 'address_x', 'reestr_code_x', 'built_year_col3',\n",
       "       'balance_accept_date_col4', 'total_area_col5',\n",
       "       'total_area_building_col6', 'bank_area_col7', 'free_area_col8',\n",
       "       'leased_out_by_bank_area_col9', 'leased_by_bank_area_col10',\n",
       "       'leased_by_bank_area_second_col11', 'transferred_by_bank_col12',\n",
       "       'transferred_by_bank_second_col13', 'bank_area_second_col14',\n",
       "       'free_area_second_col15', 'leased_out_by_bank_area_col16',\n",
       "       'leased_by_bank_area_third_col17', 'leased_by_bank_area_fourth_col18',\n",
       "       'transferred_by_bank_third_col19', 'transferred_by_bank_fourth_col20',\n",
       "       'carrying_amount_col21', 'revaluation_col22', 'accrued_amount_col23',\n",
       "       'residual_sum_col24', 'technical_condition_col25', 'test', 'object_id',\n",
       "       'id_y', 'reestr_code_y', 'department_y', 'name_y', 'address_y',\n",
       "       'region', 'area', 'city', 'ya_address', 'lng', 'lat', 'street',\n",
       "       'climat_id', 'img'],\n",
       "      dtype='object')"
      ]
     },
     "execution_count": 215,
     "metadata": {},
     "output_type": "execute_result"
    }
   ],
   "source": [
    "reals_merged.columns"
   ]
  },
  {
   "cell_type": "code",
   "execution_count": 216,
   "id": "a7d7aa8a-2927-41df-9e8e-67cc25768357",
   "metadata": {},
   "outputs": [
    {
     "data": {
      "text/plain": [
       "Index(['id', 'year', 'quarter', 'department', 'str_id', 'obj_info', 'name',\n",
       "       'address', 'reestr_code', 'built_year_col3', 'balance_accept_date_col4',\n",
       "       'total_area_col5', 'total_area_building_col6', 'bank_area_col7',\n",
       "       'free_area_col8', 'leased_out_by_bank_area_col9',\n",
       "       'leased_by_bank_area_col10', 'leased_by_bank_area_second_col11',\n",
       "       'transferred_by_bank_col12', 'transferred_by_bank_second_col13',\n",
       "       'bank_area_second_col14', 'free_area_second_col15',\n",
       "       'leased_out_by_bank_area_col16', 'leased_by_bank_area_third_col17',\n",
       "       'leased_by_bank_area_fourth_col18', 'transferred_by_bank_third_col19',\n",
       "       'transferred_by_bank_fourth_col20', 'carrying_amount_col21',\n",
       "       'revaluation_col22', 'accrued_amount_col23', 'residual_sum_col24',\n",
       "       'technical_condition_col25', 'test', 'object_id'],\n",
       "      dtype='object')"
      ]
     },
     "execution_count": 216,
     "metadata": {},
     "output_type": "execute_result"
    }
   ],
   "source": [
    "real_years.columns"
   ]
  },
  {
   "cell_type": "code",
   "execution_count": 220,
   "id": "5faa622f-94c5-476a-864d-c500ad690171",
   "metadata": {},
   "outputs": [
    {
     "data": {
      "text/plain": [
       "['department_x',\n",
       " 'leased_out_by_bank_area_col9',\n",
       " 'leased_by_bank_area_col10',\n",
       " 'leased_by_bank_area_second_col11',\n",
       " 'transferred_by_bank_second_col13',\n",
       " 'leased_out_by_bank_area_col16',\n",
       " 'leased_by_bank_area_third_col17',\n",
       " 'leased_by_bank_area_fourth_col18',\n",
       " 'transferred_by_bank_fourth_col20',\n",
       " 'technical_condition_col25',\n",
       " 'department_y',\n",
       " 'region',\n",
       " 'area',\n",
       " 'city',\n",
       " 'img',\n",
       " 'smeta',\n",
       " 'departament',\n",
       " 'code',\n",
       " 'code_expenses',\n",
       " 'name_expenses',\n",
       " 'sum_begin',\n",
       " 'id',\n",
       " 'object_id_y',\n",
       " 'type_expenses']"
      ]
     },
     "execution_count": 220,
     "metadata": {},
     "output_type": "execute_result"
    }
   ],
   "source": [
    "'total_area_col5', 'total_area_building_col6'"
   ]
  },
  {
   "cell_type": "code",
   "execution_count": 350,
   "id": "49eb531f-b8e5-410e-a950-4bc479e855e8",
   "metadata": {},
   "outputs": [
    {
     "data": {
      "text/plain": [
       "(316082, 63)"
      ]
     },
     "execution_count": 350,
     "metadata": {},
     "output_type": "execute_result"
    }
   ],
   "source": [
    "X_ctb.shape"
   ]
  },
  {
   "cell_type": "code",
   "execution_count": 361,
   "id": "55d94fb3-27aa-48cd-bd68-efbc45ddae63",
   "metadata": {},
   "outputs": [
    {
     "data": {
      "text/html": [
       "<div>\n",
       "<style scoped>\n",
       "    .dataframe tbody tr th:only-of-type {\n",
       "        vertical-align: middle;\n",
       "    }\n",
       "\n",
       "    .dataframe tbody tr th {\n",
       "        vertical-align: top;\n",
       "    }\n",
       "\n",
       "    .dataframe thead th {\n",
       "        text-align: right;\n",
       "    }\n",
       "</style>\n",
       "<table border=\"1\" class=\"dataframe\">\n",
       "  <thead>\n",
       "    <tr style=\"text-align: right;\">\n",
       "      <th></th>\n",
       "      <th>lng</th>\n",
       "      <th>lat</th>\n",
       "    </tr>\n",
       "  </thead>\n",
       "  <tbody>\n",
       "    <tr>\n",
       "      <th>0</th>\n",
       "      <td>135.071915</td>\n",
       "      <td>48.480228</td>\n",
       "    </tr>\n",
       "    <tr>\n",
       "      <th>1</th>\n",
       "      <td>135.071915</td>\n",
       "      <td>48.480228</td>\n",
       "    </tr>\n",
       "    <tr>\n",
       "      <th>2</th>\n",
       "      <td>135.071915</td>\n",
       "      <td>48.480228</td>\n",
       "    </tr>\n",
       "    <tr>\n",
       "      <th>3</th>\n",
       "      <td>135.071915</td>\n",
       "      <td>48.480228</td>\n",
       "    </tr>\n",
       "    <tr>\n",
       "      <th>4</th>\n",
       "      <td>147.873825</td>\n",
       "      <td>45.231762</td>\n",
       "    </tr>\n",
       "    <tr>\n",
       "      <th>...</th>\n",
       "      <td>...</td>\n",
       "      <td>...</td>\n",
       "    </tr>\n",
       "    <tr>\n",
       "      <th>11737</th>\n",
       "      <td>128.864273</td>\n",
       "      <td>71.635658</td>\n",
       "    </tr>\n",
       "    <tr>\n",
       "      <th>11738</th>\n",
       "      <td>128.864273</td>\n",
       "      <td>71.635658</td>\n",
       "    </tr>\n",
       "    <tr>\n",
       "      <th>11739</th>\n",
       "      <td>125.392456</td>\n",
       "      <td>58.606583</td>\n",
       "    </tr>\n",
       "    <tr>\n",
       "      <th>11740</th>\n",
       "      <td>125.392456</td>\n",
       "      <td>58.606583</td>\n",
       "    </tr>\n",
       "    <tr>\n",
       "      <th>11741</th>\n",
       "      <td>177.490967</td>\n",
       "      <td>64.733208</td>\n",
       "    </tr>\n",
       "  </tbody>\n",
       "</table>\n",
       "<p>11742 rows × 2 columns</p>\n",
       "</div>"
      ],
      "text/plain": [
       "              lng        lat\n",
       "0      135.071915  48.480228\n",
       "1      135.071915  48.480228\n",
       "2      135.071915  48.480228\n",
       "3      135.071915  48.480228\n",
       "4      147.873825  45.231762\n",
       "...           ...        ...\n",
       "11737  128.864273  71.635658\n",
       "11738  128.864273  71.635658\n",
       "11739  125.392456  58.606583\n",
       "11740  125.392456  58.606583\n",
       "11741  177.490967  64.733208\n",
       "\n",
       "[11742 rows x 2 columns]"
      ]
     },
     "execution_count": 361,
     "metadata": {},
     "output_type": "execute_result"
    }
   ],
   "source": [
    "reals_merged[['lng', 'lat']]"
   ]
  },
  {
   "cell_type": "code",
   "execution_count": 411,
   "id": "68babf98-de5e-47d7-8f25-3075afac170d",
   "metadata": {},
   "outputs": [
    {
     "data": {
      "text/html": [
       "<div>\n",
       "<style scoped>\n",
       "    .dataframe tbody tr th:only-of-type {\n",
       "        vertical-align: middle;\n",
       "    }\n",
       "\n",
       "    .dataframe tbody tr th {\n",
       "        vertical-align: top;\n",
       "    }\n",
       "\n",
       "    .dataframe thead th {\n",
       "        text-align: right;\n",
       "    }\n",
       "</style>\n",
       "<table border=\"1\" class=\"dataframe\">\n",
       "  <thead>\n",
       "    <tr style=\"text-align: right;\">\n",
       "      <th></th>\n",
       "      <th></th>\n",
       "      <th></th>\n",
       "      <th></th>\n",
       "      <th>total_area_col5</th>\n",
       "      <th>total_area_building_col6</th>\n",
       "    </tr>\n",
       "    <tr>\n",
       "      <th>lng</th>\n",
       "      <th>lat</th>\n",
       "      <th>year</th>\n",
       "      <th>quarter</th>\n",
       "      <th></th>\n",
       "      <th></th>\n",
       "    </tr>\n",
       "  </thead>\n",
       "  <tbody>\n",
       "    <tr>\n",
       "      <th rowspan=\"5\" valign=\"top\">-179.119843</th>\n",
       "      <th rowspan=\"5\" valign=\"top\">66.321968</th>\n",
       "      <th rowspan=\"4\" valign=\"top\">2016</th>\n",
       "      <th>1</th>\n",
       "      <td>141.30</td>\n",
       "      <td>141.30</td>\n",
       "    </tr>\n",
       "    <tr>\n",
       "      <th>2</th>\n",
       "      <td>141.30</td>\n",
       "      <td>141.30</td>\n",
       "    </tr>\n",
       "    <tr>\n",
       "      <th>3</th>\n",
       "      <td>141.30</td>\n",
       "      <td>141.30</td>\n",
       "    </tr>\n",
       "    <tr>\n",
       "      <th>4</th>\n",
       "      <td>141.30</td>\n",
       "      <td>141.30</td>\n",
       "    </tr>\n",
       "    <tr>\n",
       "      <th>2017</th>\n",
       "      <th>1</th>\n",
       "      <td>141.30</td>\n",
       "      <td>141.30</td>\n",
       "    </tr>\n",
       "    <tr>\n",
       "      <th>...</th>\n",
       "      <th>...</th>\n",
       "      <th>...</th>\n",
       "      <th>...</th>\n",
       "      <td>...</td>\n",
       "      <td>...</td>\n",
       "    </tr>\n",
       "    <tr>\n",
       "      <th rowspan=\"5\" valign=\"top\">179.357666</th>\n",
       "      <th rowspan=\"5\" valign=\"top\">63.063507</th>\n",
       "      <th rowspan=\"2\" valign=\"top\">2022</th>\n",
       "      <th>3</th>\n",
       "      <td>513.00</td>\n",
       "      <td>513.00</td>\n",
       "    </tr>\n",
       "    <tr>\n",
       "      <th>4</th>\n",
       "      <td>513.0</td>\n",
       "      <td>0</td>\n",
       "    </tr>\n",
       "    <tr>\n",
       "      <th rowspan=\"3\" valign=\"top\">2023</th>\n",
       "      <th>1</th>\n",
       "      <td>513.0</td>\n",
       "      <td>0</td>\n",
       "    </tr>\n",
       "    <tr>\n",
       "      <th>2</th>\n",
       "      <td>513.0</td>\n",
       "      <td>0</td>\n",
       "    </tr>\n",
       "    <tr>\n",
       "      <th>3</th>\n",
       "      <td>513.0</td>\n",
       "      <td>0</td>\n",
       "    </tr>\n",
       "  </tbody>\n",
       "</table>\n",
       "<p>4471 rows × 2 columns</p>\n",
       "</div>"
      ],
      "text/plain": [
       "                                   total_area_col5 total_area_building_col6\n",
       "lng         lat       year quarter                                         \n",
       "-179.119843 66.321968 2016 1                141.30                   141.30\n",
       "                           2                141.30                   141.30\n",
       "                           3                141.30                   141.30\n",
       "                           4                141.30                   141.30\n",
       "                      2017 1                141.30                   141.30\n",
       "...                                            ...                      ...\n",
       " 179.357666 63.063507 2022 3                513.00                   513.00\n",
       "                           4                 513.0                        0\n",
       "                      2023 1                 513.0                        0\n",
       "                           2                 513.0                        0\n",
       "                           3                 513.0                        0\n",
       "\n",
       "[4471 rows x 2 columns]"
      ]
     },
     "execution_count": 411,
     "metadata": {},
     "output_type": "execute_result"
    }
   ],
   "source": [
    "reals_merged.groupby(['lng', 'lat', 'year', 'quarter']).sum()[['total_area_col5', 'total_area_building_col6']]"
   ]
  },
  {
   "cell_type": "code",
   "execution_count": 380,
   "id": "ac4341c9-27ca-4c87-a55d-c00918fe0562",
   "metadata": {},
   "outputs": [
    {
     "data": {
      "text/plain": [
       "(8, 15)"
      ]
     },
     "execution_count": 380,
     "metadata": {},
     "output_type": "execute_result"
    }
   ],
   "source": [
    "real_unique[(real_unique.lng == 135.071915) & (real_unique.lat == 48.480228)].shape"
   ]
  },
  {
   "cell_type": "code",
   "execution_count": 377,
   "id": "1af00da4-8731-443a-8cf3-44cea630dbd3",
   "metadata": {},
   "outputs": [],
   "source": [
    "real_unique['lng'] = real_unique.lng.astype('float32')\n",
    "real_unique['lat'] = real_unique.lat.astype('float32')"
   ]
  },
  {
   "cell_type": "code",
   "execution_count": 421,
   "id": "50edff75-7990-4594-971a-1234176196de",
   "metadata": {},
   "outputs": [
    {
     "data": {
      "text/plain": [
       "Index(['department_x', 'leased_out_by_bank_area_col9',\n",
       "       'leased_by_bank_area_col10', 'leased_by_bank_area_second_col11',\n",
       "       'transferred_by_bank_second_col13', 'leased_out_by_bank_area_col16',\n",
       "       'leased_by_bank_area_third_col17', 'leased_by_bank_area_fourth_col18',\n",
       "       'transferred_by_bank_fourth_col20', 'technical_condition_col25',\n",
       "       'department_y', 'region', 'area', 'city', 'img', 'smeta', 'departament',\n",
       "       'code', 'code_expenses', 'name_expenses', 'type_expenses',\n",
       "       'built_year_col3', 'lng', 'lat', 'month', 'total_area_col5',\n",
       "       'total_area_building_col6'],\n",
       "      dtype='object')"
      ]
     },
     "execution_count": 421,
     "metadata": {},
     "output_type": "execute_result"
    }
   ],
   "source": [
    "X_tr.columns"
   ]
  },
  {
   "cell_type": "code",
   "execution_count": 426,
   "id": "75c628bd-8643-45a0-9e66-e3ce428889f3",
   "metadata": {},
   "outputs": [
    {
     "name": "stderr",
     "output_type": "stream",
     "text": [
      "C:\\Users\\Geforce\\AppData\\Local\\Temp\\ipykernel_28436\\555273431.py:1: FutureWarning: Series.__getitem__ treating keys as positions is deprecated. In a future version, integer keys will always be treated as labels (consistent with DataFrame behavior). To access a value by position, use `ser.iloc[pos]`\n",
      "  X_tr[numerical_features] = X_tr[numerical_features].isna().sum().fillna(0)\n"
     ]
    }
   ],
   "source": [
    "X_tr[numerical_features] = X_tr[numerical_features].isna().sum().fillna(0)"
   ]
  },
  {
   "cell_type": "markdown",
   "id": "7947a77a-ee08-436b-a7ad-2f6d62539e4b",
   "metadata": {},
   "source": [
    "# KNN"
   ]
  },
  {
   "cell_type": "code",
   "execution_count": 440,
   "id": "00473159-6ed4-45c2-b959-21f35e68aa7f",
   "metadata": {},
   "outputs": [
    {
     "name": "stderr",
     "output_type": "stream",
     "text": [
      "C:\\Users\\Geforce\\AppData\\Local\\Packages\\PythonSoftwareFoundation.Python.3.9_qbz5n2kfra8p0\\LocalCache\\local-packages\\Python39\\site-packages\\sklearn\\utils\\validation.py:757: FutureWarning: is_sparse is deprecated and will be removed in a future version. Check `isinstance(dtype, pd.SparseDtype)` instead.\n",
      "  if not hasattr(array, \"sparse\") and array.dtypes.apply(is_sparse).any():\n",
      "C:\\Users\\Geforce\\AppData\\Local\\Packages\\PythonSoftwareFoundation.Python.3.9_qbz5n2kfra8p0\\LocalCache\\local-packages\\Python39\\site-packages\\sklearn\\utils\\validation.py:595: FutureWarning: is_sparse is deprecated and will be removed in a future version. Check `isinstance(dtype, pd.SparseDtype)` instead.\n",
      "  if is_sparse(pd_dtype):\n",
      "C:\\Users\\Geforce\\AppData\\Local\\Packages\\PythonSoftwareFoundation.Python.3.9_qbz5n2kfra8p0\\LocalCache\\local-packages\\Python39\\site-packages\\sklearn\\utils\\validation.py:604: FutureWarning: is_sparse is deprecated and will be removed in a future version. Check `isinstance(dtype, pd.SparseDtype)` instead.\n",
      "  if is_sparse(pd_dtype) or not is_extension_array_dtype(pd_dtype):\n"
     ]
    },
    {
     "data": {
      "text/html": [
       "<style>#sk-container-id-4 {color: black;background-color: white;}#sk-container-id-4 pre{padding: 0;}#sk-container-id-4 div.sk-toggleable {background-color: white;}#sk-container-id-4 label.sk-toggleable__label {cursor: pointer;display: block;width: 100%;margin-bottom: 0;padding: 0.3em;box-sizing: border-box;text-align: center;}#sk-container-id-4 label.sk-toggleable__label-arrow:before {content: \"▸\";float: left;margin-right: 0.25em;color: #696969;}#sk-container-id-4 label.sk-toggleable__label-arrow:hover:before {color: black;}#sk-container-id-4 div.sk-estimator:hover label.sk-toggleable__label-arrow:before {color: black;}#sk-container-id-4 div.sk-toggleable__content {max-height: 0;max-width: 0;overflow: hidden;text-align: left;background-color: #f0f8ff;}#sk-container-id-4 div.sk-toggleable__content pre {margin: 0.2em;color: black;border-radius: 0.25em;background-color: #f0f8ff;}#sk-container-id-4 input.sk-toggleable__control:checked~div.sk-toggleable__content {max-height: 200px;max-width: 100%;overflow: auto;}#sk-container-id-4 input.sk-toggleable__control:checked~label.sk-toggleable__label-arrow:before {content: \"▾\";}#sk-container-id-4 div.sk-estimator input.sk-toggleable__control:checked~label.sk-toggleable__label {background-color: #d4ebff;}#sk-container-id-4 div.sk-label input.sk-toggleable__control:checked~label.sk-toggleable__label {background-color: #d4ebff;}#sk-container-id-4 input.sk-hidden--visually {border: 0;clip: rect(1px 1px 1px 1px);clip: rect(1px, 1px, 1px, 1px);height: 1px;margin: -1px;overflow: hidden;padding: 0;position: absolute;width: 1px;}#sk-container-id-4 div.sk-estimator {font-family: monospace;background-color: #f0f8ff;border: 1px dotted black;border-radius: 0.25em;box-sizing: border-box;margin-bottom: 0.5em;}#sk-container-id-4 div.sk-estimator:hover {background-color: #d4ebff;}#sk-container-id-4 div.sk-parallel-item::after {content: \"\";width: 100%;border-bottom: 1px solid gray;flex-grow: 1;}#sk-container-id-4 div.sk-label:hover label.sk-toggleable__label {background-color: #d4ebff;}#sk-container-id-4 div.sk-serial::before {content: \"\";position: absolute;border-left: 1px solid gray;box-sizing: border-box;top: 0;bottom: 0;left: 50%;z-index: 0;}#sk-container-id-4 div.sk-serial {display: flex;flex-direction: column;align-items: center;background-color: white;padding-right: 0.2em;padding-left: 0.2em;position: relative;}#sk-container-id-4 div.sk-item {position: relative;z-index: 1;}#sk-container-id-4 div.sk-parallel {display: flex;align-items: stretch;justify-content: center;background-color: white;position: relative;}#sk-container-id-4 div.sk-item::before, #sk-container-id-4 div.sk-parallel-item::before {content: \"\";position: absolute;border-left: 1px solid gray;box-sizing: border-box;top: 0;bottom: 0;left: 50%;z-index: -1;}#sk-container-id-4 div.sk-parallel-item {display: flex;flex-direction: column;z-index: 1;position: relative;background-color: white;}#sk-container-id-4 div.sk-parallel-item:first-child::after {align-self: flex-end;width: 50%;}#sk-container-id-4 div.sk-parallel-item:last-child::after {align-self: flex-start;width: 50%;}#sk-container-id-4 div.sk-parallel-item:only-child::after {width: 0;}#sk-container-id-4 div.sk-dashed-wrapped {border: 1px dashed gray;margin: 0 0.4em 0.5em 0.4em;box-sizing: border-box;padding-bottom: 0.4em;background-color: white;}#sk-container-id-4 div.sk-label label {font-family: monospace;font-weight: bold;display: inline-block;line-height: 1.2em;}#sk-container-id-4 div.sk-label-container {text-align: center;}#sk-container-id-4 div.sk-container {/* jupyter's `normalize.less` sets `[hidden] { display: none; }` but bootstrap.min.css set `[hidden] { display: none !important; }` so we also need the `!important` here to be able to override the default hidden behavior on the sphinx rendered scikit-learn.org. See: https://github.com/scikit-learn/scikit-learn/issues/21755 */display: inline-block !important;position: relative;}#sk-container-id-4 div.sk-text-repr-fallback {display: none;}</style><div id=\"sk-container-id-4\" class=\"sk-top-container\"><div class=\"sk-text-repr-fallback\"><pre>KNeighborsRegressor(n_neighbors=2)</pre><b>In a Jupyter environment, please rerun this cell to show the HTML representation or trust the notebook. <br />On GitHub, the HTML representation is unable to render, please try loading this page with nbviewer.org.</b></div><div class=\"sk-container\" hidden><div class=\"sk-item\"><div class=\"sk-estimator sk-toggleable\"><input class=\"sk-toggleable__control sk-hidden--visually\" id=\"sk-estimator-id-4\" type=\"checkbox\" checked><label for=\"sk-estimator-id-4\" class=\"sk-toggleable__label sk-toggleable__label-arrow\">KNeighborsRegressor</label><div class=\"sk-toggleable__content\"><pre>KNeighborsRegressor(n_neighbors=2)</pre></div></div></div></div></div>"
      ],
      "text/plain": [
       "KNeighborsRegressor(n_neighbors=2)"
      ]
     },
     "execution_count": 440,
     "metadata": {},
     "output_type": "execute_result"
    }
   ],
   "source": [
    "from sklearn.neighbors import KNeighborsRegressor\n",
    "\n",
    "knn = KNeighborsRegressor(n_neighbors = 2)\n",
    "knn.fit(X_tr[numerical_features], y_tr)"
   ]
  },
  {
   "cell_type": "code",
   "execution_count": 441,
   "id": "a5477545-57ed-4eff-bf5d-87784941d2b9",
   "metadata": {},
   "outputs": [
    {
     "name": "stderr",
     "output_type": "stream",
     "text": [
      "C:\\Users\\Geforce\\AppData\\Local\\Temp\\ipykernel_28436\\1402574955.py:1: FutureWarning: Series.__getitem__ treating keys as positions is deprecated. In a future version, integer keys will always be treated as labels (consistent with DataFrame behavior). To access a value by position, use `ser.iloc[pos]`\n",
      "  X_test[numerical_features] = X_test[numerical_features].isna().sum().fillna(0)\n",
      "C:\\Users\\Geforce\\AppData\\Local\\Packages\\PythonSoftwareFoundation.Python.3.9_qbz5n2kfra8p0\\LocalCache\\local-packages\\Python39\\site-packages\\sklearn\\utils\\validation.py:757: FutureWarning: is_sparse is deprecated and will be removed in a future version. Check `isinstance(dtype, pd.SparseDtype)` instead.\n",
      "  if not hasattr(array, \"sparse\") and array.dtypes.apply(is_sparse).any():\n",
      "C:\\Users\\Geforce\\AppData\\Local\\Packages\\PythonSoftwareFoundation.Python.3.9_qbz5n2kfra8p0\\LocalCache\\local-packages\\Python39\\site-packages\\sklearn\\utils\\validation.py:595: FutureWarning: is_sparse is deprecated and will be removed in a future version. Check `isinstance(dtype, pd.SparseDtype)` instead.\n",
      "  if is_sparse(pd_dtype):\n",
      "C:\\Users\\Geforce\\AppData\\Local\\Packages\\PythonSoftwareFoundation.Python.3.9_qbz5n2kfra8p0\\LocalCache\\local-packages\\Python39\\site-packages\\sklearn\\utils\\validation.py:604: FutureWarning: is_sparse is deprecated and will be removed in a future version. Check `isinstance(dtype, pd.SparseDtype)` instead.\n",
      "  if is_sparse(pd_dtype) or not is_extension_array_dtype(pd_dtype):\n"
     ]
    }
   ],
   "source": [
    "X_test[numerical_features] = X_test[numerical_features].isna().sum().fillna(0)\n",
    "pred = knn.predict(X_test[numerical_features])"
   ]
  },
  {
   "cell_type": "code",
   "execution_count": 431,
   "id": "b8df22b9-836f-4546-b330-5efb67a9242f",
   "metadata": {},
   "outputs": [
    {
     "data": {
      "text/plain": [
       "41.04929"
      ]
     },
     "execution_count": 431,
     "metadata": {},
     "output_type": "execute_result"
    }
   ],
   "source": [
    "# 5 neighb\n",
    "mean_absolute_percentage_error(y_test, pred)"
   ]
  },
  {
   "cell_type": "code",
   "execution_count": 442,
   "id": "acde57e4-ede7-412f-be0e-af8311450064",
   "metadata": {},
   "outputs": [
    {
     "data": {
      "text/plain": [
       "20.998976"
      ]
     },
     "execution_count": 442,
     "metadata": {},
     "output_type": "execute_result"
    }
   ],
   "source": [
    "# 2 neighb\n",
    "mean_absolute_percentage_error(y_test, pred)"
   ]
  },
  {
   "cell_type": "code",
   "execution_count": 439,
   "id": "5e024548-18ee-499e-9ed2-37de09ffabb2",
   "metadata": {},
   "outputs": [
    {
     "data": {
      "text/plain": [
       "43.279003"
      ]
     },
     "execution_count": 439,
     "metadata": {},
     "output_type": "execute_result"
    }
   ],
   "source": [
    "# 1 neighb\n",
    "mean_absolute_percentage_error(y_test, pred)"
   ]
  },
  {
   "cell_type": "code",
   "execution_count": null,
   "id": "f61bcd1c-6e56-45f6-bedf-22928cd8f703",
   "metadata": {},
   "outputs": [],
   "source": []
  }
 ],
 "metadata": {
  "kernelspec": {
   "display_name": "Python 3 (ipykernel)",
   "language": "python",
   "name": "python3"
  },
  "language_info": {
   "codemirror_mode": {
    "name": "ipython",
    "version": 3
   },
   "file_extension": ".py",
   "mimetype": "text/x-python",
   "name": "python",
   "nbconvert_exporter": "python",
   "pygments_lexer": "ipython3",
   "version": "3.9.13"
  }
 },
 "nbformat": 4,
 "nbformat_minor": 5
}
